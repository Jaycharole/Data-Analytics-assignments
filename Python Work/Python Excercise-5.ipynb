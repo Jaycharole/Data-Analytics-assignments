{
 "cells": [
  {
   "cell_type": "markdown",
   "id": "de506097",
   "metadata": {},
   "source": [
    "# Assignment-5"
   ]
  },
  {
   "cell_type": "markdown",
   "id": "64e8f267",
   "metadata": {},
   "source": [
    "Q.1) Python program to print all negative numbers in a range"
   ]
  },
  {
   "cell_type": "code",
   "execution_count": 1,
   "id": "9995959d",
   "metadata": {},
   "outputs": [
    {
     "name": "stdout",
     "output_type": "stream",
     "text": [
      "-4 -3 -2 -1 "
     ]
    }
   ],
   "source": [
    "start, end = -4, 19\n",
    "\n",
    "# iterating each number in list\n",
    "for num in range(start, end + 1):\n",
    "    # checking condition\n",
    "    if num < 0:\n",
    "        print(num, end = \" \")"
   ]
  },
  {
   "cell_type": "markdown",
   "id": "b9a16878",
   "metadata": {},
   "source": [
    "Q.2) Remove multiple elements from a list in Python"
   ]
  },
  {
   "cell_type": "code",
   "execution_count": 2,
   "id": "05b51c79",
   "metadata": {},
   "outputs": [
    {
     "name": "stdout",
     "output_type": "stream",
     "text": [
      "11 5 17 23\n"
     ]
    }
   ],
   "source": [
    "# creating a list\n",
    "list1 = [11, 5, 17, 18, 23, 50]\n",
    "\n",
    "# will create a new list,\n",
    "# excluding all even numbers\n",
    "list1 = [ elem for elem in list1 if elem % 2 != 0]\n",
    "\n",
    "print(*list1)"
   ]
  },
  {
   "cell_type": "markdown",
   "id": "418cb56f",
   "metadata": {},
   "source": [
    "Q.3) write a Python program to Remove empty List from List"
   ]
  },
  {
   "cell_type": "code",
   "execution_count": 3,
   "id": "1282cbcd",
   "metadata": {},
   "outputs": [
    {
     "name": "stdout",
     "output_type": "stream",
     "text": [
      "The original list is : [5, 6, [], 3, [], [], 9]\n",
      "List after empty list removal : [5, 6, 3, 9]\n"
     ]
    }
   ],
   "source": [
    "# Initializing list\n",
    "test_list = [5, 6, [], 3, [], [], 9]\n",
    "\n",
    "# printing original list\n",
    "print(\"The original list is : \" + str(test_list))\n",
    "\n",
    "# Remove empty List from List\n",
    "# using filter\n",
    "res = list(filter(None, test_list))\n",
    "\n",
    "# printing result\n",
    "print (\"List after empty list removal : \" + str(res))"
   ]
  },
  {
   "cell_type": "markdown",
   "id": "f9486c13",
   "metadata": {},
   "source": [
    "Q.4) Write a Python program to Cloning or Copying a list"
   ]
  },
  {
   "cell_type": "code",
   "execution_count": 4,
   "id": "11d31e60",
   "metadata": {},
   "outputs": [
    {
     "name": "stdout",
     "output_type": "stream",
     "text": [
      "[10, 22, 44, 23, 4]\n",
      "[10, 22, 44, 23, 4]\n"
     ]
    }
   ],
   "source": [
    "original_list = [10, 22, 44, 23, 4]\n",
    "new_list = list(original_list)\n",
    "print(original_list)\n",
    "print(new_list)"
   ]
  },
  {
   "cell_type": "markdown",
   "id": "b6eb3efc",
   "metadata": {},
   "source": [
    "Q.5) Write a Python program to Count occurrences of an element in a list"
   ]
  },
  {
   "cell_type": "code",
   "execution_count": 6,
   "id": "f4ab74e4",
   "metadata": {},
   "outputs": [
    {
     "name": "stdout",
     "output_type": "stream",
     "text": [
      "8 has occurred 5 times\n"
     ]
    }
   ],
   "source": [
    "def countX(lst, x):\n",
    "    return lst.count(x)\n",
    "\n",
    "# Driver Code\n",
    "lst = [8, 6, 8, 10, 8, 20, 10, 8, 8]\n",
    "x = 8\n",
    "print('{} has occurred {} times'.format(x, countX(lst, x)))"
   ]
  },
  {
   "cell_type": "markdown",
   "id": "a60cb31e",
   "metadata": {},
   "source": [
    "Q.6) Write a Python program to Remove empty tuples from a list"
   ]
  },
  {
   "cell_type": "code",
   "execution_count": 7,
   "id": "42089f3c",
   "metadata": {},
   "outputs": [
    {
     "name": "stdout",
     "output_type": "stream",
     "text": [
      "[('',), ('a', 'b'), ('a', 'b', 'c'), 'd']\n"
     ]
    }
   ],
   "source": [
    "L = [(), (), ('',), ('a', 'b'), ('a', 'b', 'c'), ('d')]\n",
    "L = [t for t in L if t]\n",
    "print(L)"
   ]
  },
  {
   "cell_type": "markdown",
   "id": "2334633a",
   "metadata": {},
   "source": [
    "Q.7) Write a Python program to Program to print duplicates from a list of integers"
   ]
  },
  {
   "cell_type": "code",
   "execution_count": 8,
   "id": "04cddcc2",
   "metadata": {},
   "outputs": [
    {
     "name": "stdout",
     "output_type": "stream",
     "text": [
      "Counter({1: 4, 2: 3, 5: 2, 9: 2, 3: 1, 4: 1, 6: 1, 7: 1, 8: 1})\n",
      "1\n",
      "[1, 2, 5, 9]\n"
     ]
    }
   ],
   "source": [
    "from collections import Counter\n",
    "\n",
    "l1 = [1,2,1,2,3,4,5,1,1,2,5,6,7,8,9,9]\n",
    "d = Counter(l1)\n",
    "print(d)\n",
    "# Python program to\n",
    "# compute sum of digits in\n",
    "# number.\n",
    "# Function to get sum of digits\n",
    "def getSum(n):\n",
    "    sum = 0\n",
    "    for digit in str(n):\n",
    "        sum+= int(digit)\n",
    "        return sum\n",
    "\n",
    "n = 12345\n",
    "print(getSum(n))\n",
    "\n",
    "new_list = list([item for item in d if d[item]>1])\n",
    "print(new_list)"
   ]
  },
  {
   "cell_type": "markdown",
   "id": "5abf8b04",
   "metadata": {},
   "source": [
    "Q.8) Write a Python program to find Cumulative sum of a list"
   ]
  },
  {
   "cell_type": "code",
   "execution_count": 9,
   "id": "d2924622",
   "metadata": {},
   "outputs": [
    {
     "name": "stdout",
     "output_type": "stream",
     "text": [
      "[10, 30, 60, 100, 150]\n"
     ]
    }
   ],
   "source": [
    "#write a Python program to find Cumulative sum of a list\n",
    "list=[10,20,30,40,50]\n",
    "new_list=[]\n",
    "j=0\n",
    "for i in range(0,len(list)):\n",
    "    j+=list[i]\n",
    "    new_list.append(j)\n",
    "print(new_list)"
   ]
  },
  {
   "cell_type": "markdown",
   "id": "005ef75a",
   "metadata": {},
   "source": [
    "Q.9) Write a Python program to Sum of number digits in List"
   ]
  },
  {
   "cell_type": "code",
   "execution_count": 10,
   "id": "6c4d3b3d",
   "metadata": {},
   "outputs": [
    {
     "name": "stdout",
     "output_type": "stream",
     "text": [
      "[[1, 2, 3, 4], [5, 6, 7, 8], [9]]\n"
     ]
    }
   ],
   "source": [
    "my_list = [1, 2, 3, 4, 5, 6, 7, 8, 9]\n",
    "\n",
    "# How many elements each\n",
    "# list should have\n",
    "n = 4\n",
    "\n",
    "# using list comprehension\n",
    "final = [my_list[i * n:(i + 1) * n] for i in range((len(my_list) + n - 1) // n )]\n",
    "print (final)"
   ]
  },
  {
   "cell_type": "markdown",
   "id": "67d0499d",
   "metadata": {},
   "source": [
    "Q.10) Write a Python program to Sort the values of first list using second list"
   ]
  },
  {
   "cell_type": "code",
   "execution_count": 11,
   "id": "fcfb15ba",
   "metadata": {},
   "outputs": [
    {
     "name": "stdout",
     "output_type": "stream",
     "text": [
      "['c', 'a', 'b']\n"
     ]
    }
   ],
   "source": [
    "list1 = [\"a\", \"b\", \"c\"]\n",
    "list2 = [2, 3, 1]\n",
    "\n",
    "zipped_lists = zip(list2, list1)\n",
    "#Pair list2 and list1 elements\n",
    "\n",
    "\n",
    "sorted_zipped_lists = sorted(zipped_lists)\n",
    "#Sort by first element of each pair\n",
    "\n",
    "sorted_list1 = [element for _, element in sorted_zipped_lists]\n",
    "\n",
    "print(sorted_list1)"
   ]
  }
 ],
 "metadata": {
  "kernelspec": {
   "display_name": "Python 3",
   "language": "python",
   "name": "python3"
  },
  "language_info": {
   "codemirror_mode": {
    "name": "ipython",
    "version": 3
   },
   "file_extension": ".py",
   "mimetype": "text/x-python",
   "name": "python",
   "nbconvert_exporter": "python",
   "pygments_lexer": "ipython3",
   "version": "3.8.8"
  }
 },
 "nbformat": 4,
 "nbformat_minor": 5
}
