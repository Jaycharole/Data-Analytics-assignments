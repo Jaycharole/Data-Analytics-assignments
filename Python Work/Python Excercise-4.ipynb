{
 "cells": [
  {
   "cell_type": "markdown",
   "id": "b746b2ef",
   "metadata": {},
   "source": [
    "# Assignment - 4"
   ]
  },
  {
   "cell_type": "markdown",
   "id": "3425d6d6",
   "metadata": {},
   "source": [
    "Q.1) Python program to find smallest number in a list"
   ]
  },
  {
   "cell_type": "code",
   "execution_count": 1,
   "id": "233eab86",
   "metadata": {},
   "outputs": [
    {
     "name": "stdout",
     "output_type": "stream",
     "text": [
      "Smallest element is: 4\n"
     ]
    }
   ],
   "source": [
    "# list of numbers\n",
    "list1 = [10, 20, 4, 45, 99]\n",
    "\n",
    "# sorting the list\n",
    "list1.sort()\n",
    "\n",
    "# printing the first element\n",
    "print(\"Smallest element is:\", *list1[:1])"
   ]
  },
  {
   "cell_type": "markdown",
   "id": "525ab815",
   "metadata": {},
   "source": [
    "Q.2) Python program to find largest number in a list"
   ]
  },
  {
   "cell_type": "code",
   "execution_count": 2,
   "id": "c2bc6133",
   "metadata": {},
   "outputs": [
    {
     "name": "stdout",
     "output_type": "stream",
     "text": [
      "Largest element is: 99\n"
     ]
    }
   ],
   "source": [
    "# list of numbers\n",
    "list1 = [10, 20, 4, 45, 99]\n",
    "\n",
    "# sorting the list\n",
    "list1.sort()\n",
    "\n",
    "# printing the last element\n",
    "print(\"Largest element is:\", list1[-1])"
   ]
  },
  {
   "cell_type": "markdown",
   "id": "20c6ed71",
   "metadata": {},
   "source": [
    "Q.3) Python program to find second largest number in a list"
   ]
  },
  {
   "cell_type": "code",
   "execution_count": 3,
   "id": "f909a6e4",
   "metadata": {},
   "outputs": [
    {
     "name": "stdout",
     "output_type": "stream",
     "text": [
      "Second largest element is: 45\n"
     ]
    }
   ],
   "source": [
    "# list of numbers\n",
    "list1 = [10, 20, 4, 45, 99]\n",
    "\n",
    "# sorting the list\n",
    "list1.sort()\n",
    "\n",
    "# printing the second last element\n",
    "print(\"Second largest element is:\", list1[-2])"
   ]
  },
  {
   "cell_type": "markdown",
   "id": "f2f9a609",
   "metadata": {},
   "source": [
    "Q.4) Python program to find N largest elements from a list"
   ]
  },
  {
   "cell_type": "code",
   "execution_count": 4,
   "id": "0ec57c13",
   "metadata": {},
   "outputs": [
    {
     "name": "stdout",
     "output_type": "stream",
     "text": [
      "[298, 900, 1000, 3579]\n"
     ]
    }
   ],
   "source": [
    "l = [1000,298,3579,100,200,-45,900]\n",
    "n = 4\n",
    "\n",
    "l.sort()\n",
    "print(l[-n:])"
   ]
  },
  {
   "cell_type": "markdown",
   "id": "e5b254f2",
   "metadata": {},
   "source": [
    "Q.5) Python program to print even numbers in a list"
   ]
  },
  {
   "cell_type": "code",
   "execution_count": 5,
   "id": "1d70ea51",
   "metadata": {},
   "outputs": [
    {
     "name": "stdout",
     "output_type": "stream",
     "text": [
      "Even numbers in the list:  [10, 4, 66]\n"
     ]
    }
   ],
   "source": [
    "list1 = [10, 21, 4, 45, 66, 93]\n",
    "\n",
    "# using list comprehension\n",
    "even_nos = [num for num in list1 if num % 2 == 0]\n",
    "\n",
    "print(\"Even numbers in the list: \", even_nos)"
   ]
  },
  {
   "cell_type": "markdown",
   "id": "11323c63",
   "metadata": {},
   "source": [
    "Q.6) Python program to print odd numbers in a List"
   ]
  },
  {
   "cell_type": "code",
   "execution_count": 6,
   "id": "786b2952",
   "metadata": {},
   "outputs": [
    {
     "name": "stdout",
     "output_type": "stream",
     "text": [
      "[21, 45, 93]\n"
     ]
    }
   ],
   "source": [
    "# list of numbers\n",
    "list1 = [10, 21, 4, 45, 66, 93]\n",
    "\n",
    "only_odd = [num for num in list1 if num % 2 == 1]\n",
    "\n",
    "print(only_odd)"
   ]
  },
  {
   "cell_type": "markdown",
   "id": "518b1531",
   "metadata": {},
   "source": [
    "Q.7) Python program to print all even numbers in a range"
   ]
  },
  {
   "cell_type": "code",
   "execution_count": 7,
   "id": "8c681ccc",
   "metadata": {},
   "outputs": [
    {
     "name": "stdout",
     "output_type": "stream",
     "text": [
      "4 6 8 10 12 14 16 18 "
     ]
    }
   ],
   "source": [
    "start, end = 4, 19\n",
    "\n",
    "# iterating each number in list\n",
    "for num in range(start, end + 1):\n",
    "    # checking condition\n",
    "    if num % 2 == 0:\n",
    "        print(num, end = \" \")"
   ]
  },
  {
   "cell_type": "markdown",
   "id": "aa07a079",
   "metadata": {},
   "source": [
    "Q.8) Python program to print all odd numbers in a range"
   ]
  },
  {
   "cell_type": "code",
   "execution_count": 9,
   "id": "ef97f4bf",
   "metadata": {},
   "outputs": [
    {
     "name": "stdout",
     "output_type": "stream",
     "text": [
      "5 7 9 11 13 15 17 19 "
     ]
    }
   ],
   "source": [
    "start, end = 4, 19\n",
    "\n",
    "# iterating each number in list\n",
    "for num in range(start, end + 1):\n",
    "    # checking condition\n",
    "    if num % 2 != 0:\n",
    "        print(num, end = \" \")"
   ]
  },
  {
   "cell_type": "markdown",
   "id": "50a359fc",
   "metadata": {},
   "source": [
    "Q.9) Python program to print positive numbers in a list"
   ]
  },
  {
   "cell_type": "code",
   "execution_count": 10,
   "id": "81fd57f9",
   "metadata": {},
   "outputs": [
    {
     "name": "stdout",
     "output_type": "stream",
     "text": [
      "Positive numbers in the list:  45 93\n"
     ]
    }
   ],
   "source": [
    "# list of numbers\n",
    "list1 = [-10, -21, -4, 45, -66, 93]\n",
    "\n",
    "# using list comprehension\n",
    "pos_nos = [num for num in list1 if num >= 0]\n",
    "\n",
    "print(\"Positive numbers in the list: \", *pos_nos)"
   ]
  },
  {
   "cell_type": "markdown",
   "id": "d2b72767",
   "metadata": {},
   "source": [
    "Q.10) Python program to print negative numbers in a list"
   ]
  },
  {
   "cell_type": "code",
   "execution_count": 11,
   "id": "591e1325",
   "metadata": {},
   "outputs": [
    {
     "name": "stdout",
     "output_type": "stream",
     "text": [
      "Positive numbers in the list:  -10 -21 -4 -66\n"
     ]
    }
   ],
   "source": [
    "# list of numbers\n",
    "list1 = [-10, -21, -4, 45, -66, 93]\n",
    "\n",
    "# using list comprehension\n",
    "pos_nos = [num for num in list1 if num <= 0]\n",
    "\n",
    "print(\"Positive numbers in the list: \", *pos_nos)"
   ]
  },
  {
   "cell_type": "markdown",
   "id": "a1e2f73c",
   "metadata": {},
   "source": [
    "Q.11) Python program to print all positive numbers in a range"
   ]
  },
  {
   "cell_type": "code",
   "execution_count": 12,
   "id": "5455a7dc",
   "metadata": {},
   "outputs": [
    {
     "name": "stdout",
     "output_type": "stream",
     "text": [
      "0 1 2 3 4 5 6 7 8 9 10 11 12 13 14 15 16 17 18 19 "
     ]
    }
   ],
   "source": [
    "start, end = -4, 19\n",
    "\n",
    "# iterating each number in list\n",
    "for num in range(start, end + 1):\n",
    "    # checking condition\n",
    "    if num >= 0:\n",
    "        print(num, end = \" \")"
   ]
  }
 ],
 "metadata": {
  "kernelspec": {
   "display_name": "Python 3",
   "language": "python",
   "name": "python3"
  },
  "language_info": {
   "codemirror_mode": {
    "name": "ipython",
    "version": 3
   },
   "file_extension": ".py",
   "mimetype": "text/x-python",
   "name": "python",
   "nbconvert_exporter": "python",
   "pygments_lexer": "ipython3",
   "version": "3.8.8"
  }
 },
 "nbformat": 4,
 "nbformat_minor": 5
}
