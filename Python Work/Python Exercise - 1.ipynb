{
 "cells": [
  {
   "cell_type": "markdown",
   "id": "e8958664",
   "metadata": {},
   "source": [
    "### 1.Write a Python program to find those numbers which are divisible by 7 and multiple of 5, between 1500 and 2700 (both included)."
   ]
  },
  {
   "cell_type": "code",
   "execution_count": 6,
   "id": "e77885ef",
   "metadata": {},
   "outputs": [
    {
     "name": "stdout",
     "output_type": "stream",
     "text": [
      "[1505, 1540, 1575, 1610, 1645, 1680, 1715, 1750, 1785, 1820, 1855, 1890, 1925, 1960, 1995, 2030, 2065, 2100, 2135, 2170, 2205, 2240, 2275, 2310, 2345, 2380, 2415, 2450, 2485, 2520, 2555, 2590, 2625, 2660, 2695]\n"
     ]
    }
   ],
   "source": [
    "lst1 = []\n",
    "for i in range(1500,2701):\n",
    "    if (i%7 == 0) and (i%5 == 0):\n",
    "        lst1.append(i)\n",
    "print(lst1)"
   ]
  },
  {
   "cell_type": "markdown",
   "id": "bde6ccd4",
   "metadata": {},
   "source": [
    "### 2. Python program to add two numbers"
   ]
  },
  {
   "cell_type": "code",
   "execution_count": 1,
   "id": "3bcc1111",
   "metadata": {},
   "outputs": [
    {
     "name": "stdout",
     "output_type": "stream",
     "text": [
      "Enter a number5\n",
      "Enter a number3\n",
      "The addition of 5 and 3 is 8\n"
     ]
    }
   ],
   "source": [
    "n1 = int(input(\"Enter a number\"))\n",
    "n2 = int(input(\"Enter a number\"))\n",
    "add = n1+n2\n",
    "print(f\"The addition of {n1} and {n2} is {add}\")"
   ]
  },
  {
   "cell_type": "markdown",
   "id": "be177c83",
   "metadata": {},
   "source": [
    "### 3. Maximum of two numbers in Python"
   ]
  },
  {
   "cell_type": "code",
   "execution_count": 3,
   "id": "c9ce58fc",
   "metadata": {},
   "outputs": [
    {
     "name": "stdout",
     "output_type": "stream",
     "text": [
      "Enter a number5\n",
      "Enter a number4\n",
      "The maximum of 5 and 4 is 5\n"
     ]
    }
   ],
   "source": [
    "n1 = int(input(\"Enter a number\"))\n",
    "n2 = int(input(\"Enter a number\"))\n",
    "m_num = max(n1,n2)\n",
    "print(f\"The maximum of {n1} and {n2} is {m_num}\")"
   ]
  },
  {
   "cell_type": "markdown",
   "id": "e81da29b",
   "metadata": {},
   "source": [
    "### 4. Python Program for factorial of a number"
   ]
  },
  {
   "cell_type": "code",
   "execution_count": 4,
   "id": "0670273c",
   "metadata": {},
   "outputs": [
    {
     "name": "stdout",
     "output_type": "stream",
     "text": [
      "Enter a number: 4\n",
      "24\n"
     ]
    }
   ],
   "source": [
    "n = int(input(\"Enter a number: \"))\n",
    "fact = 1\n",
    "for i in range(1,n+1):\n",
    "    fact = fact * i\n",
    "print(fact)"
   ]
  },
  {
   "cell_type": "markdown",
   "id": "d61782f4",
   "metadata": {},
   "source": [
    "### 5. Python Program for simple interest"
   ]
  },
  {
   "cell_type": "code",
   "execution_count": 5,
   "id": "f45d2416",
   "metadata": {},
   "outputs": [
    {
     "name": "stdout",
     "output_type": "stream",
     "text": [
      "Enter the principal value:15000\n",
      "Enter time: 3\n",
      "Enter rate: 15\n",
      "The simple interest is 6750\n"
     ]
    }
   ],
   "source": [
    "principal = float(input(\"Enter the principal value:\"))\n",
    "time = float(input(\"Enter time: \"))\n",
    "rate = float(input(\"Enter rate: \"))\n",
    "si = (principal * time * rate)/100\n",
    "print(f\"The simple interest is {round(si)}\")"
   ]
  },
  {
   "cell_type": "markdown",
   "id": "1dcb7909",
   "metadata": {},
   "source": [
    "### 6. Python Program for compound interest"
   ]
  },
  {
   "cell_type": "code",
   "execution_count": null,
   "id": "90290041",
   "metadata": {},
   "outputs": [],
   "source": [
    "Amount = principle * (pow((1 + rate / 100), time))\n",
    "    CI = Amount - principle"
   ]
  },
  {
   "cell_type": "code",
   "execution_count": null,
   "id": "dd0d47e5",
   "metadata": {},
   "outputs": [],
   "source": [
    "principal = float(input(\"Enter the principal value:\"))\n",
    "time = float(input(\"Enter time: \"))\n",
    "rate = float(input(\"Enter rate: \"))\n",
    "Amount = principle * (pow((1 + rate / 100), time))"
   ]
  },
  {
   "cell_type": "markdown",
   "id": "6d7abaf5",
   "metadata": {},
   "source": [
    "### 7. Python Program to check Armstrong Number"
   ]
  },
  {
   "cell_type": "code",
   "execution_count": 7,
   "id": "26be49bb",
   "metadata": {},
   "outputs": [
    {
     "name": "stdout",
     "output_type": "stream",
     "text": [
      "Enter a number: 153\n",
      "153 is an Armstrong number\n"
     ]
    }
   ],
   "source": [
    "num = int(input(\"Enter a number: \"))\n",
    "\n",
    "# initialize sum\n",
    "sum = 0\n",
    "\n",
    "# find the sum of the cube of each digit\n",
    "temp = num\n",
    "while temp > 0:\n",
    "   digit = temp % 10\n",
    "   sum += digit ** 3\n",
    "   temp //= 10\n",
    "\n",
    "# display the result\n",
    "if num == sum:\n",
    "   print(num,\"is an Armstrong number\")\n",
    "else:\n",
    "   print(num,\"is not an Armstrong number\")"
   ]
  },
  {
   "cell_type": "markdown",
   "id": "9d64a5c8",
   "metadata": {},
   "source": [
    "### 8. Python Program for Program to find area of a circle"
   ]
  },
  {
   "cell_type": "code",
   "execution_count": 9,
   "id": "3badffe9",
   "metadata": {},
   "outputs": [
    {
     "name": "stdout",
     "output_type": "stream",
     "text": [
      "Enter the radius of the circle: 3\n",
      "The area of the circle is 28\n"
     ]
    }
   ],
   "source": [
    "radius = float(input(\"Enter the radius of the circle: \"))\n",
    "circle = 3.14 * radius * radius\n",
    "print(f\"The area of the circle is {round(circle)}\")"
   ]
  },
  {
   "cell_type": "markdown",
   "id": "facf5a54",
   "metadata": {},
   "source": [
    "### 9. Python program to print all Prime numbers in an Interva"
   ]
  },
  {
   "cell_type": "code",
   "execution_count": 11,
   "id": "06653c84",
   "metadata": {},
   "outputs": [
    {
     "name": "stdout",
     "output_type": "stream",
     "text": [
      "Enter the lower range: 20\n",
      "Enter the upper range: 150\n",
      "Prime numbers between 20 and 150 are:\n",
      "23\n",
      "29\n",
      "31\n",
      "37\n",
      "41\n",
      "43\n",
      "47\n",
      "53\n",
      "59\n",
      "61\n",
      "67\n",
      "71\n",
      "73\n",
      "79\n",
      "83\n",
      "89\n",
      "97\n",
      "101\n",
      "103\n",
      "107\n",
      "109\n",
      "113\n",
      "127\n",
      "131\n",
      "137\n",
      "139\n",
      "149\n"
     ]
    }
   ],
   "source": [
    "lower = int(input(\"Enter the lower range: \"))\n",
    "upper = int(input(\"Enter the upper range: \"))\n",
    "\n",
    "print(\"Prime numbers between\", lower, \"and\", upper, \"are:\")\n",
    "\n",
    "for num in range(lower, upper + 1):\n",
    "   # all prime numbers are greater than 1\n",
    "   if num > 1:\n",
    "       for i in range(2, num):\n",
    "           if (num % i) == 0:\n",
    "               break\n",
    "       else:\n",
    "           print(num)"
   ]
  },
  {
   "cell_type": "markdown",
   "id": "1da40320",
   "metadata": {},
   "source": [
    "### 10. Python program to check whether a number is Prime or not"
   ]
  },
  {
   "cell_type": "code",
   "execution_count": 10,
   "id": "b09dda2e",
   "metadata": {},
   "outputs": [
    {
     "name": "stdout",
     "output_type": "stream",
     "text": [
      "Enter a number: 23\n",
      "23 is a prime number\n"
     ]
    }
   ],
   "source": [
    "# To take input from the user\n",
    "num = int(input(\"Enter a number: \"))\n",
    "\n",
    "# prime numbers are greater than 1\n",
    "if num > 1:\n",
    "   for i in range(2,num):\n",
    "       if (num % i) == 0:\n",
    "           print(num,\"is not a prime number\")\n",
    "           print(i,\"times\",num//i,\"is\",num)\n",
    "           break\n",
    "   else:\n",
    "       print(num,\"is a prime number\")\n",
    "       \n",
    "\n",
    "# or equal to 1, it is not prime\n",
    "else:\n",
    "   print(num,\"is not a prime number\")"
   ]
  }
 ],
 "metadata": {
  "kernelspec": {
   "display_name": "Python 3",
   "language": "python",
   "name": "python3"
  },
  "language_info": {
   "codemirror_mode": {
    "name": "ipython",
    "version": 3
   },
   "file_extension": ".py",
   "mimetype": "text/x-python",
   "name": "python",
   "nbconvert_exporter": "python",
   "pygments_lexer": "ipython3",
   "version": "3.8.8"
  }
 },
 "nbformat": 4,
 "nbformat_minor": 5
}
