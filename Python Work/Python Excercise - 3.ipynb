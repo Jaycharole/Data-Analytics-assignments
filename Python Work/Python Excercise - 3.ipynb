{
 "cells": [
  {
   "cell_type": "markdown",
   "id": "55571f51",
   "metadata": {},
   "source": [
    "### Python Program for Find reminder of array multiplication divided by n."
   ]
  },
  {
   "cell_type": "code",
   "execution_count": 6,
   "id": "78779aa0",
   "metadata": {},
   "outputs": [
    {
     "name": "stdout",
     "output_type": "stream",
     "text": [
      "Enter number of elements : 6\n",
      "100\n",
      "10\n",
      "5\n",
      "25\n",
      "35\n",
      "14\n",
      "The elements of the list are [100, 10, 5, 25, 35, 14]\n",
      "The length of the list is 6\n",
      "Enter the value of the n by which elements will be divided: 11\n",
      "The remainder is 9\n"
     ]
    }
   ],
   "source": [
    "lst = []\n",
    "n = int(input(\"Enter number of elements : \"))\n",
    "for i in range(0, n):\n",
    "    ele = int(input())\n",
    "    lst.append(ele) # adding the element    \n",
    "print(f\"The elements of the list are {lst}\")\n",
    "\n",
    "lens = len(lst)\n",
    "print(f\"The length of the list is {lens}\")\n",
    "\n",
    "n = int(input(\"Enter the value of the n by which elements will be divided: \"))\n",
    "\n",
    "mul = 1\n",
    "for i in lst:\n",
    "    mul = mul * (i % n)\n",
    "\n",
    "result = mul % n\n",
    "print(f\"The remainder is {result}\")"
   ]
  },
  {
   "cell_type": "markdown",
   "id": "57129c4d",
   "metadata": {},
   "source": [
    "### Python program to interchange first and last elements in a list"
   ]
  },
  {
   "cell_type": "code",
   "execution_count": 7,
   "id": "94021b37",
   "metadata": {},
   "outputs": [
    {
     "name": "stdout",
     "output_type": "stream",
     "text": [
      "Enter number of elements : 4\n",
      "10\n",
      "20\n",
      "30\n",
      "40\n",
      "The elements of the list are [10, 20, 30, 40]\n",
      "The length of the list is 4\n",
      "\n",
      "The elements of list before interchanging:\n",
      "[10, 20, 30, 40]\n",
      "The elements after interchanging is:\n",
      "[40, 20, 30, 10]\n"
     ]
    }
   ],
   "source": [
    "lst = []\n",
    "n = int(input(\"Enter number of elements : \"))\n",
    "for i in range(0, n):\n",
    "    ele = int(input())\n",
    "    lst.append(ele) # adding the element    \n",
    "print(f\"The elements of the list are {lst}\")\n",
    "size = len(lst)\n",
    "print(f\"The length of the list is {size}\")\n",
    "print(f\"\")\n",
    "print(f\"The elements of list before interchanging:\")\n",
    "print(lst)\n",
    "temp = lst[0]\n",
    "lst[0] = lst[size - 1]\n",
    "lst[size - 1] = temp\n",
    "print(f\"The elements after interchanging is:\")\n",
    "print(lst)"
   ]
  },
  {
   "cell_type": "markdown",
   "id": "17819c7f",
   "metadata": {},
   "source": [
    "### Python program to swap two elements in a list"
   ]
  },
  {
   "cell_type": "code",
   "execution_count": 11,
   "id": "5b61eac3",
   "metadata": {},
   "outputs": [
    {
     "name": "stdout",
     "output_type": "stream",
     "text": [
      "Enter number of elements : 4\n",
      "1\n",
      "2\n",
      "3\n",
      "4\n",
      "The elements of the list are [1, 2, 3, 4]\n",
      "Enter the first position1\n",
      "Enter the second position2\n",
      "The elements of list after swapping: [1, 3, 2, 4]\n"
     ]
    }
   ],
   "source": [
    "# creating and inputing data\n",
    "lst = []\n",
    "n = int(input(\"Enter number of elements : \"))\n",
    "for i in range(0, n):\n",
    "    ele = int(input())\n",
    "    lst.append(ele) # adding the element    \n",
    "print(f\"The elements of the list are {lst}\")\n",
    "\n",
    "# entering the positions\n",
    "pos1 = int(input(\"Enter the first position\"))\n",
    "pos2 = int(input(\"Enter the second position\"))\n",
    "\n",
    "# swapping\n",
    "lst[pos1],lst[pos2] = lst[pos2],lst[pos1]\n",
    "\n",
    "# printing the list\n",
    "print(f\"The elements of list after swapping: {lst}\")"
   ]
  },
  {
   "cell_type": "markdown",
   "id": "77373398",
   "metadata": {},
   "source": [
    "### Write a program to find length of list"
   ]
  },
  {
   "cell_type": "code",
   "execution_count": 1,
   "id": "04dc82d3",
   "metadata": {},
   "outputs": [
    {
     "name": "stdout",
     "output_type": "stream",
     "text": [
      "Enter number of elements : 4\n",
      "1\n",
      "2\n",
      "4\n",
      "4\n",
      "[1, 2, 4, 4]\n",
      "The length of the list is 4\n"
     ]
    }
   ],
   "source": [
    "lst = []\n",
    "n = int(input(\"Enter number of elements : \"))\n",
    "for i in range(0, n):\n",
    "    ele = int(input())\n",
    "    lst.append(ele) # adding the element    \n",
    "print(lst)\n",
    "print(f\"The length of the list is {len(lst)}\")"
   ]
  },
  {
   "cell_type": "markdown",
   "id": "f269099e",
   "metadata": {},
   "source": [
    "### write a program to check if element exists in list"
   ]
  },
  {
   "cell_type": "code",
   "execution_count": 2,
   "id": "671a9a13",
   "metadata": {},
   "outputs": [
    {
     "name": "stdout",
     "output_type": "stream",
     "text": [
      "Enter the element which you want to check: 22\n",
      "22 is not present in the list\n"
     ]
    }
   ],
   "source": [
    "lst = [10,20,30,40,50]\n",
    "n = int(input(\"Enter the element which you want to check: \"))\n",
    "if n in lst:\n",
    "    print(f\"{n} is present in list.\")\n",
    "else:\n",
    "    print(f\"{n} is not present in the list\")"
   ]
  },
  {
   "cell_type": "markdown",
   "id": "8c6744f3",
   "metadata": {},
   "source": [
    "### Write a program to clear a list in Python"
   ]
  },
  {
   "cell_type": "code",
   "execution_count": 9,
   "id": "b7a6cd22",
   "metadata": {},
   "outputs": [
    {
     "name": "stdout",
     "output_type": "stream",
     "text": [
      "List before clearing: [6, 0, 4, 1]\n",
      "List after clearing: []\n"
     ]
    }
   ],
   "source": [
    "lst = [6, 0, 4, 1]\n",
    "print(f\"List before clearing: {lst}\") \n",
    "  \n",
    "# Clearing list \n",
    "lst.clear() \n",
    "print(f\"List after clearing: {lst}\")  "
   ]
  },
  {
   "cell_type": "markdown",
   "id": "8796c391",
   "metadata": {},
   "source": [
    "### Write a program to Reversing a List"
   ]
  },
  {
   "cell_type": "code",
   "execution_count": 10,
   "id": "0282d000",
   "metadata": {},
   "outputs": [
    {
     "name": "stdout",
     "output_type": "stream",
     "text": [
      "List before reversing: [6, 0, 4, 1]\n",
      "List after reversing: [1, 4, 0, 6]\n"
     ]
    }
   ],
   "source": [
    "lst = [6, 0, 4, 1]\n",
    "print(f\"List before reversing: {lst}\") \n",
    "  \n",
    "# Clearing list \n",
    "lst.reverse() \n",
    "print(f\"List after reversing: {lst}\")  "
   ]
  },
  {
   "cell_type": "markdown",
   "id": "488f7f8f",
   "metadata": {},
   "source": [
    "### Write a program to find sum of elements in list"
   ]
  },
  {
   "cell_type": "code",
   "execution_count": 3,
   "id": "1d33a9a7",
   "metadata": {},
   "outputs": [
    {
     "name": "stdout",
     "output_type": "stream",
     "text": [
      "Enter number of elements : 5\n",
      "1\n",
      "2\n",
      "3\n",
      "4\n",
      "5\n",
      "[1, 2, 3, 4, 5]\n",
      "The sum of elements of the list is 15\n"
     ]
    }
   ],
   "source": [
    "lst = []\n",
    "n = int(input(\"Enter number of elements : \"))\n",
    "for i in range(0, n):\n",
    "    ele = int(input())\n",
    "    lst.append(ele) # adding the element    \n",
    "print(lst)\n",
    "\n",
    "sum = 0\n",
    "for j in lst:\n",
    "    sum = sum + j\n",
    "print(f\"The sum of elements of the list is {sum}\")"
   ]
  },
  {
   "cell_type": "markdown",
   "id": "ab4bca25",
   "metadata": {},
   "source": [
    "### Write a program to Multiply all numbers in the list"
   ]
  },
  {
   "cell_type": "code",
   "execution_count": 4,
   "id": "1ece9d69",
   "metadata": {},
   "outputs": [
    {
     "name": "stdout",
     "output_type": "stream",
     "text": [
      "Enter number of elements : 3\n",
      "2\n",
      "3\n",
      "4\n",
      "[2, 3, 4]\n",
      "The sum of elements of the list is 24\n"
     ]
    }
   ],
   "source": [
    "lst = []\n",
    "n = int(input(\"Enter number of elements : \"))\n",
    "for i in range(0, n):\n",
    "    ele = int(input())\n",
    "    lst.append(ele) # adding the element    \n",
    "print(lst)\n",
    "\n",
    "sum = 1\n",
    "for j in lst:\n",
    "    sum = sum * j\n",
    "print(f\"The sum of elements of the list is {sum}\")"
   ]
  }
 ],
 "metadata": {
  "kernelspec": {
   "display_name": "Python 3",
   "language": "python",
   "name": "python3"
  },
  "language_info": {
   "codemirror_mode": {
    "name": "ipython",
    "version": 3
   },
   "file_extension": ".py",
   "mimetype": "text/x-python",
   "name": "python",
   "nbconvert_exporter": "python",
   "pygments_lexer": "ipython3",
   "version": "3.8.8"
  }
 },
 "nbformat": 4,
 "nbformat_minor": 5
}
