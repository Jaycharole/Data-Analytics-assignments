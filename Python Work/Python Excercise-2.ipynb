{
 "cells": [
  {
   "cell_type": "markdown",
   "id": "b05b996d",
   "metadata": {},
   "source": [
    "### Python Program for n-th Fibonacci number "
   ]
  },
  {
   "cell_type": "code",
   "execution_count": 1,
   "id": "c68a803c",
   "metadata": {},
   "outputs": [
    {
     "name": "stdout",
     "output_type": "stream",
     "text": [
      "Enter the value of n: 9\n",
      "The answer is 21\n"
     ]
    }
   ],
   "source": [
    "def Fibonacci(n):\n",
    "   if n<0:\n",
    "      print(\"Fibbonacci can't be computed\")\n",
    "   # First Fibonacci number\n",
    "   elif n==1:\n",
    "      return 0\n",
    "   # Second Fibonacci number\n",
    "   elif n==2:\n",
    "      return 1\n",
    "   else:\n",
    "      return Fibonacci(n-1)+Fibonacci(n-2)\n",
    "\n",
    "n = int(input(\"Enter the value of n: \"))\n",
    "print(f\"The answer is {Fibonacci(n)}\")"
   ]
  },
  {
   "cell_type": "markdown",
   "id": "84eac0ac",
   "metadata": {},
   "source": [
    "### Program to print ASCII Value of a character"
   ]
  },
  {
   "cell_type": "code",
   "execution_count": 2,
   "id": "5d9bb9ef",
   "metadata": {},
   "outputs": [
    {
     "name": "stdout",
     "output_type": "stream",
     "text": [
      "Enter a character: a\n",
      "The ASCII value of a is 97\n"
     ]
    }
   ],
   "source": [
    "c = str(input(\"Enter a character: \"))\n",
    "# to find the ascii value we use the function ord()\\\n",
    "print(f\"The ASCII value of {c} is {ord(c)}\")"
   ]
  },
  {
   "cell_type": "markdown",
   "id": "5d85ad3e",
   "metadata": {},
   "source": [
    "### Python Program for cube sum of first n natural numbers"
   ]
  },
  {
   "cell_type": "code",
   "execution_count": 3,
   "id": "154cc388",
   "metadata": {},
   "outputs": [
    {
     "name": "stdout",
     "output_type": "stream",
     "text": [
      "Enter a number: 7\n",
      "The sum of cube of 7 natural numbers is 784\n"
     ]
    }
   ],
   "source": [
    "n = int(input(\"Enter a number: \"))\n",
    "cube = 0\n",
    "for i in range(1,n+1):\n",
    "    cube = cube + i*i*i\n",
    "print(f\"The sum of cube of {n} natural numbers is {cube}\")"
   ]
  },
  {
   "cell_type": "markdown",
   "id": "e7a72cb7",
   "metadata": {},
   "source": [
    "### Python Program for Sum of squares of first n natural numbers"
   ]
  },
  {
   "cell_type": "code",
   "execution_count": 4,
   "id": "bb066ecd",
   "metadata": {},
   "outputs": [
    {
     "name": "stdout",
     "output_type": "stream",
     "text": [
      "Enter a number: 5\n",
      "The sum of square of 5 natural numbers is 55\n"
     ]
    }
   ],
   "source": [
    "n = int(input(\"Enter a number: \"))\n",
    "sqr = 0\n",
    "for i in range(1,n+1):\n",
    "    sqr = sqr + i*i\n",
    "print(f\"The sum of square of {n} natural numbers is {sqr}\")"
   ]
  },
  {
   "cell_type": "markdown",
   "id": "352a3b0a",
   "metadata": {},
   "source": [
    "### Python Program to find sum of array"
   ]
  },
  {
   "cell_type": "code",
   "execution_count": 6,
   "id": "fd9f16b4",
   "metadata": {},
   "outputs": [
    {
     "name": "stdout",
     "output_type": "stream",
     "text": [
      "Enter number of elements : 5\n",
      "1\n",
      "2\n",
      "3\n",
      "4\n",
      "5\n",
      "[1, 2, 3, 4, 5]\n",
      "The sum of elements of an array/list is 15\n"
     ]
    }
   ],
   "source": [
    "lst = []\n",
    "n = int(input(\"Enter number of elements : \"))\n",
    "for i in range(0, n):\n",
    "    ele = int(input())\n",
    "    lst.append(ele) # adding the element    \n",
    "print(lst)\n",
    "\n",
    "# printing the sum\n",
    "sum = 0\n",
    "for j in lst:\n",
    "    sum = sum + j\n",
    "print(f\"The sum of elements of an array/list is {sum}\")"
   ]
  },
  {
   "cell_type": "markdown",
   "id": "4a2a344d",
   "metadata": {},
   "source": [
    "### Python Program to find largest element in an array"
   ]
  },
  {
   "cell_type": "code",
   "execution_count": 7,
   "id": "58a6d0f3",
   "metadata": {},
   "outputs": [
    {
     "name": "stdout",
     "output_type": "stream",
     "text": [
      "Enter number of elements : 5\n",
      "1\n",
      "2\n",
      "10\n",
      "27\n",
      "18\n",
      "[1, 2, 10, 27, 18]\n",
      "The largest element in the list is 27\n"
     ]
    }
   ],
   "source": [
    "lst = []\n",
    "n = int(input(\"Enter number of elements : \"))\n",
    "for i in range(0, n):\n",
    "    ele = int(input())\n",
    "    lst.append(ele) # adding the element    \n",
    "print(lst)\n",
    "print(f\"The largest element in the list is {max(lst)}\")"
   ]
  }
 ],
 "metadata": {
  "kernelspec": {
   "display_name": "Python 3",
   "language": "python",
   "name": "python3"
  },
  "language_info": {
   "codemirror_mode": {
    "name": "ipython",
    "version": 3
   },
   "file_extension": ".py",
   "mimetype": "text/x-python",
   "name": "python",
   "nbconvert_exporter": "python",
   "pygments_lexer": "ipython3",
   "version": "3.8.8"
  }
 },
 "nbformat": 4,
 "nbformat_minor": 5
}
